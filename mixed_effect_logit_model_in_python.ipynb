{
 "cells": [
  {
   "cell_type": "code",
   "execution_count": 11,
   "metadata": {},
   "outputs": [],
   "source": [
    "import tensorflow as tf\n",
    "import edward as ed\n",
    "import numpy as np\n",
    "from plotnine import *\n",
    "import pandas as pd"
   ]
  },
  {
   "cell_type": "markdown",
   "metadata": {},
   "source": [
    "# Testing logistic regression without mixed effect"
   ]
  },
  {
   "cell_type": "markdown",
   "metadata": {},
   "source": [
    "### Setting up test data"
   ]
  },
  {
   "cell_type": "code",
   "execution_count": 2,
   "metadata": {},
   "outputs": [
    {
     "data": {
      "text/plain": [
       "array([[1, 1, 1, ..., 4, 0, 2],\n",
       "       [1, 2, 1, ..., 4, 2, 3],\n",
       "       [1, 1, 4, ..., 3, 0, 4],\n",
       "       ...,\n",
       "       [1, 4, 3, ..., 4, 2, 1],\n",
       "       [3, 4, 2, ..., 3, 2, 3],\n",
       "       [0, 3, 2, ..., 2, 0, 4]])"
      ]
     },
     "execution_count": 2,
     "metadata": {},
     "output_type": "execute_result"
    }
   ],
   "source": [
    "data_x = np.random.randint(0,5,size=(50000, 200))\n",
    "data_x"
   ]
  },
  {
   "cell_type": "code",
   "execution_count": 5,
   "metadata": {
    "scrolled": true
   },
   "outputs": [
    {
     "data": {
      "text/plain": [
       "array([[ 3.85697294e+00],\n",
       "       [ 5.33835958e-01],\n",
       "       [ 4.32504875e+00],\n",
       "       [-6.09098573e-01],\n",
       "       [ 6.55967403e-01],\n",
       "       [ 3.69868951e-01],\n",
       "       [-4.14593405e+00],\n",
       "       [-1.67873061e+00],\n",
       "       [ 2.63734672e+00],\n",
       "       [-3.77590012e+00],\n",
       "       [ 3.55026179e+00],\n",
       "       [-1.64381439e+00],\n",
       "       [-5.77670939e-01],\n",
       "       [ 1.70491046e+00],\n",
       "       [ 4.34750261e+00],\n",
       "       [ 3.76921090e+00],\n",
       "       [ 5.25600923e-01],\n",
       "       [-1.22538910e+00],\n",
       "       [-3.32183651e+00],\n",
       "       [-3.41516822e+00],\n",
       "       [-4.94728562e+00],\n",
       "       [-4.66338144e+00],\n",
       "       [ 1.48616287e+00],\n",
       "       [ 3.07483194e+00],\n",
       "       [ 3.80285692e+00],\n",
       "       [ 2.68956765e-01],\n",
       "       [ 1.90878574e+00],\n",
       "       [-1.66949632e+00],\n",
       "       [ 9.42357558e-01],\n",
       "       [-4.26496512e+00],\n",
       "       [-1.77007915e+00],\n",
       "       [-2.88247033e+00],\n",
       "       [ 2.29404160e+00],\n",
       "       [-3.49614793e+00],\n",
       "       [-1.06029181e+00],\n",
       "       [-3.26440343e+00],\n",
       "       [-7.75952614e-01],\n",
       "       [-4.59634171e+00],\n",
       "       [ 3.25333811e+00],\n",
       "       [ 4.83386291e+00],\n",
       "       [-2.34449041e+00],\n",
       "       [ 4.73914882e+00],\n",
       "       [-2.77825177e+00],\n",
       "       [-3.37261521e+00],\n",
       "       [-3.58357018e+00],\n",
       "       [-2.76022606e+00],\n",
       "       [ 1.15440133e+00],\n",
       "       [ 3.17506598e+00],\n",
       "       [ 2.52456759e+00],\n",
       "       [-4.38523166e+00],\n",
       "       [ 4.18517948e-01],\n",
       "       [ 3.55158378e+00],\n",
       "       [-3.10036059e+00],\n",
       "       [-6.32394897e-01],\n",
       "       [ 5.65117798e-01],\n",
       "       [-1.84926819e+00],\n",
       "       [-4.80580326e-01],\n",
       "       [ 4.16112802e+00],\n",
       "       [-3.74266935e+00],\n",
       "       [ 3.31051740e+00],\n",
       "       [ 1.68108486e+00],\n",
       "       [-6.85177073e-01],\n",
       "       [-1.51168682e+00],\n",
       "       [-2.35436478e+00],\n",
       "       [-2.29909322e-01],\n",
       "       [-3.08267309e+00],\n",
       "       [ 1.79944375e+00],\n",
       "       [-3.50701672e+00],\n",
       "       [ 2.55672083e+00],\n",
       "       [ 2.34039687e+00],\n",
       "       [-1.10213993e+00],\n",
       "       [-2.08700298e+00],\n",
       "       [-1.62329844e+00],\n",
       "       [ 3.62865405e+00],\n",
       "       [-4.75672222e+00],\n",
       "       [ 4.25513927e+00],\n",
       "       [-2.95919317e+00],\n",
       "       [ 2.76481475e+00],\n",
       "       [-4.60859506e+00],\n",
       "       [-2.85620333e+00],\n",
       "       [ 3.71009715e+00],\n",
       "       [-3.98601157e+00],\n",
       "       [ 1.50746095e-01],\n",
       "       [-3.97126104e+00],\n",
       "       [-2.20706565e+00],\n",
       "       [ 1.69590675e+00],\n",
       "       [ 7.24940567e-01],\n",
       "       [ 1.14147296e-01],\n",
       "       [-4.17211289e+00],\n",
       "       [ 3.72436149e+00],\n",
       "       [ 2.55065618e+00],\n",
       "       [ 5.13306904e-02],\n",
       "       [-3.30920015e+00],\n",
       "       [ 9.29291597e-02],\n",
       "       [ 2.67946979e+00],\n",
       "       [-3.25304724e+00],\n",
       "       [ 4.31361991e+00],\n",
       "       [ 1.17246009e+00],\n",
       "       [-1.26678278e+00],\n",
       "       [ 4.91795565e-01],\n",
       "       [ 3.01792651e-03],\n",
       "       [ 2.97474182e+00],\n",
       "       [ 3.61556741e+00],\n",
       "       [ 3.19785111e+00],\n",
       "       [ 4.81732269e+00],\n",
       "       [-3.30998143e+00],\n",
       "       [ 2.86400754e-01],\n",
       "       [ 3.30084940e+00],\n",
       "       [-1.66450388e+00],\n",
       "       [ 2.39785409e+00],\n",
       "       [ 3.70809028e+00],\n",
       "       [-4.28894725e+00],\n",
       "       [ 1.60821774e+00],\n",
       "       [-5.54427670e-01],\n",
       "       [ 2.89021610e+00],\n",
       "       [-4.70509381e+00],\n",
       "       [-4.55534626e+00],\n",
       "       [ 1.04863546e+00],\n",
       "       [-6.06625065e-01],\n",
       "       [ 2.68119825e+00],\n",
       "       [ 1.25172330e+00],\n",
       "       [-1.32333616e+00],\n",
       "       [-4.26842585e+00],\n",
       "       [ 3.14485187e+00],\n",
       "       [ 7.87909004e-01],\n",
       "       [ 4.96755426e+00],\n",
       "       [-4.87280578e+00],\n",
       "       [ 3.55305146e+00],\n",
       "       [ 9.45641071e-01],\n",
       "       [ 1.50388434e-01],\n",
       "       [ 4.54759159e+00],\n",
       "       [-2.22349469e-01],\n",
       "       [-1.52253252e+00],\n",
       "       [ 4.00698108e+00],\n",
       "       [-2.93615616e+00],\n",
       "       [ 2.35125082e+00],\n",
       "       [ 2.62137239e+00],\n",
       "       [ 4.18314008e+00],\n",
       "       [ 2.58596944e+00],\n",
       "       [ 2.44812123e-02],\n",
       "       [-4.56434884e+00],\n",
       "       [-1.92149556e+00],\n",
       "       [-2.25330206e+00],\n",
       "       [-4.99229494e+00],\n",
       "       [-5.46906154e-01],\n",
       "       [ 1.94309059e+00],\n",
       "       [ 1.80033238e+00],\n",
       "       [ 7.14812809e-01],\n",
       "       [ 3.59533718e+00],\n",
       "       [-1.20352122e+00],\n",
       "       [-1.58324020e+00],\n",
       "       [ 2.24562431e+00],\n",
       "       [ 3.56424329e+00],\n",
       "       [ 2.64034894e+00],\n",
       "       [-3.53998220e+00],\n",
       "       [ 4.22868323e+00],\n",
       "       [-1.93830726e+00],\n",
       "       [ 3.90433159e+00],\n",
       "       [-4.89137003e-01],\n",
       "       [-4.83748414e+00],\n",
       "       [ 2.60525169e+00],\n",
       "       [-2.25534348e+00],\n",
       "       [ 4.18979730e+00],\n",
       "       [-1.06968078e+00],\n",
       "       [-1.56268735e+00],\n",
       "       [ 7.01272179e-01],\n",
       "       [ 4.52001148e+00],\n",
       "       [-1.21121420e+00],\n",
       "       [-2.26380419e+00],\n",
       "       [ 3.04120690e+00],\n",
       "       [-1.95727533e-01],\n",
       "       [-3.31072004e+00],\n",
       "       [ 2.67206026e+00],\n",
       "       [ 4.18236428e+00],\n",
       "       [-3.55507026e+00],\n",
       "       [-4.12742079e+00],\n",
       "       [ 4.73636401e+00],\n",
       "       [-4.09830263e+00],\n",
       "       [-2.56792803e+00],\n",
       "       [ 9.19033215e-01],\n",
       "       [ 3.28286552e+00],\n",
       "       [ 2.85876599e+00],\n",
       "       [-2.43771052e+00],\n",
       "       [-3.31075355e+00],\n",
       "       [-5.31048472e-01],\n",
       "       [-2.98846142e+00],\n",
       "       [ 2.37562152e+00],\n",
       "       [-2.46526792e+00],\n",
       "       [ 3.42219265e-01],\n",
       "       [-3.04932649e-01],\n",
       "       [-4.43220446e+00],\n",
       "       [ 2.61872020e+00],\n",
       "       [-4.79707744e+00],\n",
       "       [ 3.53727552e+00],\n",
       "       [-2.74362871e+00],\n",
       "       [ 2.49160939e+00],\n",
       "       [ 1.57899832e+00],\n",
       "       [-4.73691118e+00],\n",
       "       [ 3.65413075e+00],\n",
       "       [ 3.93409827e+00]])"
      ]
     },
     "execution_count": 5,
     "metadata": {},
     "output_type": "execute_result"
    }
   ],
   "source": [
    "data_w = np.random.uniform(-5,5,size=(200,1))\n",
    "data_w"
   ]
  },
  {
   "cell_type": "code",
   "execution_count": 6,
   "metadata": {},
   "outputs": [
    {
     "data": {
      "text/plain": [
       "array([9.99999999e-01, 1.51893906e-08, 9.99829712e-01, ...,\n",
       "       1.26599048e-21, 6.74609998e-20, 3.64924637e-03])"
      ]
     },
     "execution_count": 6,
     "metadata": {},
     "output_type": "execute_result"
    }
   ],
   "source": [
    "data_p = 1/(1+np.exp(-np.matmul(data_x, data_w)))\n",
    "data_p.sum(1)"
   ]
  },
  {
   "cell_type": "code",
   "execution_count": 12,
   "metadata": {},
   "outputs": [
    {
     "data": {
      "image/png": "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\n",
      "text/plain": [
       "<matplotlib.figure.Figure at 0x1ab6d588>"
      ]
     },
     "metadata": {},
     "output_type": "display_data"
    },
    {
     "name": "stdout",
     "output_type": "stream",
     "text": [
      "<ggplot: (27937775)>\n"
     ]
    }
   ],
   "source": [
    "this_plot = ggplot(aes(x='data_p'), pd.DataFrame(data_p)) + geom_histogram(binwidth=0.01)\n",
    "print(this_plot)"
   ]
  },
  {
   "cell_type": "code",
   "execution_count": 13,
   "metadata": {},
   "outputs": [
    {
     "data": {
      "text/plain": [
       "array([1, 0, 1, ..., 0, 0, 0])"
      ]
     },
     "execution_count": 13,
     "metadata": {},
     "output_type": "execute_result"
    }
   ],
   "source": [
    "data_y = np.random.binomial(p=data_p.sum(1), n=1, size=50000)\n",
    "data_y"
   ]
  },
  {
   "cell_type": "code",
   "execution_count": 14,
   "metadata": {},
   "outputs": [
    {
     "data": {
      "image/png": "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\n",
      "text/plain": [
       "<matplotlib.figure.Figure at 0x1ab37e48>"
      ]
     },
     "metadata": {},
     "output_type": "display_data"
    },
    {
     "name": "stdout",
     "output_type": "stream",
     "text": [
      "<ggplot: (-9223372036829457457)>\n"
     ]
    }
   ],
   "source": [
    "this_plot = ggplot(aes(x='data_y'), pd.DataFrame(data_y)) + geom_bar()\n",
    "print(this_plot)"
   ]
  },
  {
   "cell_type": "markdown",
   "metadata": {},
   "source": [
    "### Setting up tensorflow model"
   ]
  },
  {
   "cell_type": "code",
   "execution_count": 46,
   "metadata": {},
   "outputs": [],
   "source": [
    "indep = tf.placeholder(tf.float64, shape=(50000, 200))"
   ]
  },
  {
   "cell_type": "code",
   "execution_count": 47,
   "metadata": {},
   "outputs": [
    {
     "data": {
      "text/plain": [
       "array([[ 3.79596392],\n",
       "       [-0.47707905],\n",
       "       [ 1.48996166],\n",
       "       [ 1.75942919],\n",
       "       [-1.82279923],\n",
       "       [-4.59239289],\n",
       "       [-1.76023944],\n",
       "       [-2.03320912],\n",
       "       [ 0.03307529],\n",
       "       [-1.09628027],\n",
       "       [ 4.92076198],\n",
       "       [ 0.68922153],\n",
       "       [ 1.69513653],\n",
       "       [ 1.72067878],\n",
       "       [-3.7988854 ],\n",
       "       [ 0.4358306 ],\n",
       "       [-0.53874947],\n",
       "       [ 2.45441213],\n",
       "       [ 2.86173319],\n",
       "       [-1.1092854 ],\n",
       "       [ 2.70215468],\n",
       "       [-0.98426222],\n",
       "       [-4.71404936],\n",
       "       [ 1.52450805],\n",
       "       [-1.80334419],\n",
       "       [-1.09911945],\n",
       "       [ 0.88851097],\n",
       "       [ 2.87960125],\n",
       "       [-2.1820432 ],\n",
       "       [ 2.24199473],\n",
       "       [ 1.89388211],\n",
       "       [ 3.55501372],\n",
       "       [-4.88902986],\n",
       "       [ 3.43176248],\n",
       "       [-3.26216013],\n",
       "       [ 4.23623778],\n",
       "       [-4.79272107],\n",
       "       [ 2.48866636],\n",
       "       [ 3.86356381],\n",
       "       [ 3.49098086],\n",
       "       [ 2.56368372],\n",
       "       [-4.20752766],\n",
       "       [-0.43446322],\n",
       "       [ 2.92966873],\n",
       "       [-4.74190877],\n",
       "       [ 4.73201822],\n",
       "       [ 2.40347938],\n",
       "       [ 1.05091859],\n",
       "       [-3.70952096],\n",
       "       [ 4.32513569],\n",
       "       [ 3.860208  ],\n",
       "       [-3.75637556],\n",
       "       [ 1.14919385],\n",
       "       [-0.48505642],\n",
       "       [ 3.46170388],\n",
       "       [-1.40258109],\n",
       "       [ 0.48789608],\n",
       "       [ 4.64187221],\n",
       "       [-1.91935539],\n",
       "       [ 4.97021249],\n",
       "       [ 4.14127683],\n",
       "       [ 3.84001497],\n",
       "       [-1.965832  ],\n",
       "       [-2.37276133],\n",
       "       [ 0.26742693],\n",
       "       [ 2.12685873],\n",
       "       [ 2.94376186],\n",
       "       [ 3.68708372],\n",
       "       [ 3.42243475],\n",
       "       [-0.10841918],\n",
       "       [ 0.39220831],\n",
       "       [ 4.85725003],\n",
       "       [-0.16232366],\n",
       "       [ 3.84241465],\n",
       "       [-1.86247879],\n",
       "       [ 0.88281433],\n",
       "       [ 4.53586802],\n",
       "       [-0.04533688],\n",
       "       [-0.29462412],\n",
       "       [ 4.70828342],\n",
       "       [ 0.38274285],\n",
       "       [-0.71062328],\n",
       "       [ 2.84953603],\n",
       "       [-2.26160869],\n",
       "       [ 4.3733492 ],\n",
       "       [-1.24263899],\n",
       "       [-4.7604499 ],\n",
       "       [-3.29510545],\n",
       "       [-1.49245339],\n",
       "       [-0.17447934],\n",
       "       [ 4.4987243 ],\n",
       "       [-1.33166344],\n",
       "       [-4.84118301],\n",
       "       [ 1.21730075],\n",
       "       [ 2.5526367 ],\n",
       "       [-3.30839719],\n",
       "       [-1.46484843],\n",
       "       [ 2.13528304],\n",
       "       [ 1.98909532],\n",
       "       [-1.07186603],\n",
       "       [ 3.91638916],\n",
       "       [ 0.01898025],\n",
       "       [ 1.81967759],\n",
       "       [-4.65280992],\n",
       "       [-3.74230267],\n",
       "       [ 2.1670448 ],\n",
       "       [-1.2346731 ],\n",
       "       [ 3.02900073],\n",
       "       [ 2.55077093],\n",
       "       [-4.89433354],\n",
       "       [-0.55581609],\n",
       "       [ 4.56607197],\n",
       "       [-2.79401899],\n",
       "       [ 2.19921166],\n",
       "       [-3.67247674],\n",
       "       [ 2.77562869],\n",
       "       [ 1.87280796],\n",
       "       [ 0.15962923],\n",
       "       [ 4.55816115],\n",
       "       [ 4.60494491],\n",
       "       [-2.91544557],\n",
       "       [-1.87521723],\n",
       "       [ 4.58162866],\n",
       "       [-3.79193053],\n",
       "       [-2.87012274],\n",
       "       [-0.50868592],\n",
       "       [-3.73948722],\n",
       "       [ 3.01583328],\n",
       "       [ 0.44648211],\n",
       "       [ 1.16393971],\n",
       "       [ 2.39361248],\n",
       "       [ 2.66463246],\n",
       "       [-4.89518327],\n",
       "       [ 0.65507583],\n",
       "       [ 3.46561601],\n",
       "       [-3.16609739],\n",
       "       [-4.63341183],\n",
       "       [-4.44599915],\n",
       "       [ 4.3269791 ],\n",
       "       [-0.25391049],\n",
       "       [ 1.27156783],\n",
       "       [-0.8281808 ],\n",
       "       [-1.45867523],\n",
       "       [-0.78505587],\n",
       "       [ 1.5936502 ],\n",
       "       [ 0.30287014],\n",
       "       [ 3.3906003 ],\n",
       "       [-1.84809974],\n",
       "       [-0.57790667],\n",
       "       [ 0.04851081],\n",
       "       [-4.16214748],\n",
       "       [-0.4619869 ],\n",
       "       [ 0.68583176],\n",
       "       [ 2.91890959],\n",
       "       [-3.66923111],\n",
       "       [-3.12700839],\n",
       "       [ 0.24115277],\n",
       "       [ 1.52543251],\n",
       "       [ 4.47155212],\n",
       "       [ 4.84978265],\n",
       "       [-3.73800295],\n",
       "       [-2.46592669],\n",
       "       [ 1.15384653],\n",
       "       [ 3.75482804],\n",
       "       [-2.28713094],\n",
       "       [ 2.50602602],\n",
       "       [ 2.19399009],\n",
       "       [-1.20553391],\n",
       "       [-4.06685339],\n",
       "       [ 0.22713287],\n",
       "       [ 0.26926648],\n",
       "       [ 4.39867875],\n",
       "       [-0.39279854],\n",
       "       [ 4.95018203],\n",
       "       [-2.28590592],\n",
       "       [ 4.62487465],\n",
       "       [-1.1797695 ],\n",
       "       [-1.34291066],\n",
       "       [-4.64632854],\n",
       "       [ 2.61658859],\n",
       "       [ 4.32933472],\n",
       "       [ 2.07955633],\n",
       "       [ 0.14559442],\n",
       "       [-1.37191845],\n",
       "       [ 4.71816831],\n",
       "       [-4.16114595],\n",
       "       [ 4.91320197],\n",
       "       [ 3.76757891],\n",
       "       [-0.18539139],\n",
       "       [-0.09619279],\n",
       "       [-2.03096015],\n",
       "       [ 4.67911051],\n",
       "       [ 1.82785344],\n",
       "       [-3.42076405],\n",
       "       [-4.69957335],\n",
       "       [-1.29904865],\n",
       "       [-3.83750245],\n",
       "       [-4.44547276],\n",
       "       [ 0.24697155],\n",
       "       [ 4.14605526]])"
      ]
     },
     "execution_count": 47,
     "metadata": {},
     "output_type": "execute_result"
    }
   ],
   "source": [
    "pred_w = np.random.uniform(-5,5,size=(200,1))\n",
    "pred_w"
   ]
  },
  {
   "cell_type": "code",
   "execution_count": 48,
   "metadata": {},
   "outputs": [],
   "source": [
    "pred_w = tf.Variable(pred_w, dtype=tf.float64)"
   ]
  },
  {
   "cell_type": "code",
   "execution_count": 49,
   "metadata": {},
   "outputs": [],
   "source": [
    "dep = tf.placeholder(tf.float64, shape=(50000))"
   ]
  },
  {
   "cell_type": "code",
   "execution_count": 50,
   "metadata": {},
   "outputs": [],
   "source": [
    "p_hat = 1/(1+tf.exp(-tf.matmul(indep, pred_w)))"
   ]
  },
  {
   "cell_type": "code",
   "execution_count": 51,
   "metadata": {},
   "outputs": [],
   "source": [
    "p_hat = tf.reduce_max(p_hat, 1)"
   ]
  },
  {
   "cell_type": "code",
   "execution_count": 52,
   "metadata": {},
   "outputs": [],
   "source": [
    "cost = tf.reduce_mean((dep-1)*tf.log(1-tf.clip_by_value(p_hat,0,0.999999))-dep*tf.log(tf.clip_by_value(p_hat,1e-10,1.0)))\n",
    "# cost = -tf.reduce_mean(dep*tf.log(tf.clip_by_value(p_hat,1e-10,1.0)))"
   ]
  },
  {
   "cell_type": "markdown",
   "metadata": {},
   "source": [
    "### run model"
   ]
  },
  {
   "cell_type": "code",
   "execution_count": 88,
   "metadata": {},
   "outputs": [
    {
     "name": "stdout",
     "output_type": "stream",
     "text": [
      "100.0%"
     ]
    }
   ],
   "source": [
    "# lr = tf.placeholder(tf.float32)\n",
    "train_step    = tf.train.AdamOptimizer(0.1).minimize(cost)\n",
    "init          = tf.global_variables_initializer()\n",
    "\n",
    "\n",
    "loss_trace = []\n",
    "result_w = []\n",
    "with tf.Session() as sess:\n",
    "    sess.run(init)\n",
    "    for i in range(100):\n",
    "        sess.run(train_step, feed_dict={indep: data_x, dep: data_y})\n",
    "        temp_loss = sess.run(cost, feed_dict={indep: data_x, dep: data_y})\n",
    "        loss_trace.append([str(i+1), temp_loss])\n",
    "        print(\"\\r{}%\".format((i+1)/1), end='')\n",
    "    result_w = sess.run(pred_w)"
   ]
  },
  {
   "cell_type": "code",
   "execution_count": 89,
   "metadata": {},
   "outputs": [
    {
     "data": {
      "image/png": "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\n",
      "text/plain": [
       "<matplotlib.figure.Figure at 0x1e1e0588>"
      ]
     },
     "metadata": {},
     "output_type": "display_data"
    },
    {
     "name": "stdout",
     "output_type": "stream",
     "text": [
      "<ggplot: (31767777)>\n"
     ]
    }
   ],
   "source": [
    "this_plot = ggplot(aes(x='t', y='l'), pd.DataFrame(loss_trace, columns=['t','l'], dtype=np.float64)) + geom_line()\n",
    "print(this_plot)"
   ]
  },
  {
   "cell_type": "code",
   "execution_count": 90,
   "metadata": {},
   "outputs": [
    {
     "data": {
      "text/plain": [
       "['100', 0.026571806250700155]"
      ]
     },
     "execution_count": 90,
     "metadata": {},
     "output_type": "execute_result"
    }
   ],
   "source": [
    "loss_trace[-1]"
   ]
  },
  {
   "cell_type": "code",
   "execution_count": 92,
   "metadata": {},
   "outputs": [
    {
     "data": {
      "text/plain": [
       "array([[ True],\n",
       "       [False],\n",
       "       [ True],\n",
       "       [ True],\n",
       "       [ True],\n",
       "       [False],\n",
       "       [ True],\n",
       "       [ True],\n",
       "       [ True],\n",
       "       [ True],\n",
       "       [ True],\n",
       "       [ True],\n",
       "       [ True],\n",
       "       [False],\n",
       "       [ True],\n",
       "       [ True],\n",
       "       [ True],\n",
       "       [ True],\n",
       "       [ True],\n",
       "       [ True],\n",
       "       [ True],\n",
       "       [ True],\n",
       "       [ True],\n",
       "       [ True],\n",
       "       [ True],\n",
       "       [ True],\n",
       "       [ True],\n",
       "       [ True],\n",
       "       [ True],\n",
       "       [ True],\n",
       "       [ True],\n",
       "       [ True],\n",
       "       [False],\n",
       "       [ True],\n",
       "       [ True],\n",
       "       [ True],\n",
       "       [False],\n",
       "       [ True],\n",
       "       [ True],\n",
       "       [ True],\n",
       "       [ True],\n",
       "       [ True],\n",
       "       [ True],\n",
       "       [ True],\n",
       "       [ True],\n",
       "       [ True],\n",
       "       [ True],\n",
       "       [ True],\n",
       "       [False],\n",
       "       [ True],\n",
       "       [ True],\n",
       "       [False],\n",
       "       [ True],\n",
       "       [ True],\n",
       "       [ True],\n",
       "       [ True],\n",
       "       [False],\n",
       "       [ True],\n",
       "       [ True],\n",
       "       [ True],\n",
       "       [ True],\n",
       "       [False],\n",
       "       [ True],\n",
       "       [ True],\n",
       "       [False],\n",
       "       [ True],\n",
       "       [ True],\n",
       "       [ True],\n",
       "       [ True],\n",
       "       [ True],\n",
       "       [False],\n",
       "       [False],\n",
       "       [ True],\n",
       "       [ True],\n",
       "       [ True],\n",
       "       [ True],\n",
       "       [False],\n",
       "       [ True],\n",
       "       [ True],\n",
       "       [False],\n",
       "       [ True],\n",
       "       [ True],\n",
       "       [ True],\n",
       "       [ True],\n",
       "       [False],\n",
       "       [ True],\n",
       "       [False],\n",
       "       [False],\n",
       "       [ True],\n",
       "       [ True],\n",
       "       [ True],\n",
       "       [False],\n",
       "       [ True],\n",
       "       [ True],\n",
       "       [ True],\n",
       "       [ True],\n",
       "       [ True],\n",
       "       [ True],\n",
       "       [ True],\n",
       "       [False],\n",
       "       [ True],\n",
       "       [ True],\n",
       "       [ True],\n",
       "       [False],\n",
       "       [False],\n",
       "       [ True],\n",
       "       [ True],\n",
       "       [ True],\n",
       "       [False],\n",
       "       [False],\n",
       "       [ True],\n",
       "       [ True],\n",
       "       [ True],\n",
       "       [ True],\n",
       "       [ True],\n",
       "       [ True],\n",
       "       [ True],\n",
       "       [ True],\n",
       "       [False],\n",
       "       [ True],\n",
       "       [ True],\n",
       "       [ True],\n",
       "       [False],\n",
       "       [ True],\n",
       "       [ True],\n",
       "       [ True],\n",
       "       [ True],\n",
       "       [ True],\n",
       "       [ True],\n",
       "       [False],\n",
       "       [ True],\n",
       "       [False],\n",
       "       [ True],\n",
       "       [ True],\n",
       "       [ True],\n",
       "       [ True],\n",
       "       [False],\n",
       "       [ True],\n",
       "       [ True],\n",
       "       [False],\n",
       "       [ True],\n",
       "       [ True],\n",
       "       [ True],\n",
       "       [ True],\n",
       "       [ True],\n",
       "       [ True],\n",
       "       [ True],\n",
       "       [False],\n",
       "       [ True],\n",
       "       [ True],\n",
       "       [ True],\n",
       "       [ True],\n",
       "       [ True],\n",
       "       [ True],\n",
       "       [ True],\n",
       "       [False],\n",
       "       [ True],\n",
       "       [ True],\n",
       "       [ True],\n",
       "       [ True],\n",
       "       [ True],\n",
       "       [ True],\n",
       "       [ True],\n",
       "       [ True],\n",
       "       [ True],\n",
       "       [ True],\n",
       "       [ True],\n",
       "       [ True],\n",
       "       [ True],\n",
       "       [ True],\n",
       "       [ True],\n",
       "       [False],\n",
       "       [ True],\n",
       "       [ True],\n",
       "       [ True],\n",
       "       [False],\n",
       "       [ True],\n",
       "       [ True],\n",
       "       [ True],\n",
       "       [ True],\n",
       "       [ True],\n",
       "       [ True],\n",
       "       [ True],\n",
       "       [ True],\n",
       "       [ True],\n",
       "       [ True],\n",
       "       [ True],\n",
       "       [ True],\n",
       "       [ True],\n",
       "       [ True],\n",
       "       [ True],\n",
       "       [ True],\n",
       "       [ True],\n",
       "       [ True],\n",
       "       [ True],\n",
       "       [ True],\n",
       "       [False],\n",
       "       [ True],\n",
       "       [ True],\n",
       "       [ True]])"
      ]
     },
     "execution_count": 92,
     "metadata": {},
     "output_type": "execute_result"
    }
   ],
   "source": [
    "(result_w - data_w)/data_w < 0.01"
   ]
  },
  {
   "cell_type": "code",
   "execution_count": null,
   "metadata": {},
   "outputs": [],
   "source": []
  },
  {
   "cell_type": "code",
   "execution_count": null,
   "metadata": {},
   "outputs": [],
   "source": []
  },
  {
   "cell_type": "markdown",
   "metadata": {},
   "source": [
    "# Testing logistic regression with mixed effects"
   ]
  },
  {
   "cell_type": "markdown",
   "metadata": {},
   "source": [
    "### Setting up test data"
   ]
  },
  {
   "cell_type": "code",
   "execution_count": 110,
   "metadata": {},
   "outputs": [],
   "source": [
    "data_x = np.random.randint(0,5,size=(50000, 200))"
   ]
  },
  {
   "cell_type": "code",
   "execution_count": 111,
   "metadata": {},
   "outputs": [],
   "source": [
    "data_groups = np.repeat(['a','b','c','d','e'], 10000)"
   ]
  },
  {
   "cell_type": "code",
   "execution_count": 112,
   "metadata": {},
   "outputs": [
    {
     "data": {
      "text/plain": [
       "array(['a', 'a', 'a', ..., 'e', 'e', 'e'], dtype='<U1')"
      ]
     },
     "execution_count": 112,
     "metadata": {},
     "output_type": "execute_result"
    }
   ],
   "source": [
    "data_groups"
   ]
  },
  {
   "cell_type": "code",
   "execution_count": 116,
   "metadata": {},
   "outputs": [],
   "source": [
    "data_wa = np.random.uniform(-5,5,size=(200,1))\n",
    "data_pa = 1/(1+np.exp(-np.matmul(data_x[0:10000], data_wa)))\n",
    "data_wb = np.random.uniform(-5,5,size=(200,1))\n",
    "data_pb = 1/(1+np.exp(-np.matmul(data_x[10000:20000], data_wa)))\n",
    "data_wc = np.random.uniform(-5,5,size=(200,1))\n",
    "data_pc = 1/(1+np.exp(-np.matmul(data_x[20000:30000], data_wa)))\n",
    "data_wd = np.random.uniform(-5,5,size=(200,1))\n",
    "data_pd = 1/(1+np.exp(-np.matmul(data_x[30000:40000], data_wa)))\n",
    "data_we = np.random.uniform(-5,5,size=(200,1))\n",
    "data_pe = 1/(1+np.exp(-np.matmul(data_x[40000:50000], data_wa)))"
   ]
  },
  {
   "cell_type": "code",
   "execution_count": 139,
   "metadata": {},
   "outputs": [],
   "source": [
    "data_p = np.vstack((data_pa, data_pb, data_pc, data_pd, data_pe))"
   ]
  },
  {
   "cell_type": "code",
   "execution_count": 140,
   "metadata": {},
   "outputs": [
    {
     "data": {
      "image/png": "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\n",
      "text/plain": [
       "<matplotlib.figure.Figure at 0x1c407400>"
      ]
     },
     "metadata": {},
     "output_type": "display_data"
    },
    {
     "name": "stdout",
     "output_type": "stream",
     "text": [
      "<ggplot: (28323918)>\n"
     ]
    }
   ],
   "source": [
    "this_plot = ggplot(aes(x='data_p'), pd.DataFrame(data_p)) + geom_histogram(binwidth=0.01)\n",
    "print(this_plot)"
   ]
  },
  {
   "cell_type": "code",
   "execution_count": 141,
   "metadata": {},
   "outputs": [
    {
     "data": {
      "text/plain": [
       "array([0, 1, 1, ..., 1, 1, 0])"
      ]
     },
     "execution_count": 141,
     "metadata": {},
     "output_type": "execute_result"
    }
   ],
   "source": [
    "data_y = np.random.binomial(p=data_p.sum(1), n=1, size=50000)\n",
    "data_y"
   ]
  },
  {
   "cell_type": "code",
   "execution_count": 142,
   "metadata": {},
   "outputs": [
    {
     "data": {
      "image/png": "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\n",
      "text/plain": [
       "<matplotlib.figure.Figure at 0x1dddbb00>"
      ]
     },
     "metadata": {},
     "output_type": "display_data"
    },
    {
     "name": "stdout",
     "output_type": "stream",
     "text": [
      "<ggplot: (-9223372036825165245)>\n"
     ]
    }
   ],
   "source": [
    "this_plot = ggplot(aes(x='data_y'), pd.DataFrame(data_y)) + geom_bar()\n",
    "print(this_plot)"
   ]
  },
 ],
 "metadata": {
  "kernelspec": {
   "display_name": "Python 3",
   "language": "python",
   "name": "python3"
  },
  "language_info": {
   "codemirror_mode": {
    "name": "ipython",
    "version": 3
   },
   "file_extension": ".py",
   "mimetype": "text/x-python",
   "name": "python",
   "nbconvert_exporter": "python",
   "pygments_lexer": "ipython3",
   "version": "3.6.4"
  }
 },
 "nbformat": 4,
 "nbformat_minor": 2
}
